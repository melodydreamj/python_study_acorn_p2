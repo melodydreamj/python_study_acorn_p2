{
 "cells": [
  {
   "cell_type": "code",
   "execution_count": 1,
   "metadata": {
    "collapsed": true
   },
   "outputs": [],
   "source": [
    "#데이터합치기\n",
    "    #연결,결합\n",
    "#데이터피벗-엑셀기능(?)\n",
    "#데이터재형성\n",
    "#데이터 그룹연산"
   ]
  },
  {
   "cell_type": "code",
   "execution_count": 8,
   "metadata": {
    "collapsed": false
   },
   "outputs": [
    {
     "data": {
      "text/html": [
       "<div>\n",
       "<table border=\"1\" class=\"dataframe\">\n",
       "  <thead>\n",
       "    <tr style=\"text-align: right;\">\n",
       "      <th></th>\n",
       "      <th>A</th>\n",
       "      <th>B</th>\n",
       "      <th>C</th>\n",
       "      <th>D</th>\n",
       "    </tr>\n",
       "  </thead>\n",
       "  <tbody>\n",
       "    <tr>\n",
       "      <th>4</th>\n",
       "      <td>A4</td>\n",
       "      <td>B4</td>\n",
       "      <td>C4</td>\n",
       "      <td>D4</td>\n",
       "    </tr>\n",
       "    <tr>\n",
       "      <th>5</th>\n",
       "      <td>A5</td>\n",
       "      <td>B5</td>\n",
       "      <td>C5</td>\n",
       "      <td>D5</td>\n",
       "    </tr>\n",
       "    <tr>\n",
       "      <th>6</th>\n",
       "      <td>A6</td>\n",
       "      <td>B6</td>\n",
       "      <td>C6</td>\n",
       "      <td>D6</td>\n",
       "    </tr>\n",
       "    <tr>\n",
       "      <th>7</th>\n",
       "      <td>A7</td>\n",
       "      <td>B7</td>\n",
       "      <td>C7</td>\n",
       "      <td>D7</td>\n",
       "    </tr>\n",
       "  </tbody>\n",
       "</table>\n",
       "</div>"
      ],
      "text/plain": [
       "    A   B   C   D\n",
       "4  A4  B4  C4  D4\n",
       "5  A5  B5  C5  D5\n",
       "6  A6  B6  C6  D6\n",
       "7  A7  B7  C7  D7"
      ]
     },
     "execution_count": 8,
     "metadata": {},
     "output_type": "execute_result"
    }
   ],
   "source": [
    "#데이터합치기 - concat,append\n",
    "#concat ->가로 세로 모두가능\n",
    "#append -> 세로로만 붙임ㅇㅇ (로우가 늘어나는용도에서사용, 컬럼붙이는건 못함ㅇㅇ)\n",
    "\n",
    "import pandas as pd\n",
    "\n",
    "df1 = pd.DataFrame({'A':['A0','A1','A2','A3'],\n",
    "    'B':['B0','B1','B2','B3'],\n",
    "    'C':['C0','C1','C2','C3'],\n",
    "    'D':['D0','D1','D2','D3']},\n",
    "    index = [0,1,2,3])\n",
    "\n",
    "df2 = pd.DataFrame({\n",
    "    'A':['A4','A5','A6','A7'],\n",
    "    'B':['B4','B5','B6','B7'],\n",
    "    'C':['C4','C5','C6','C7'],\n",
    "    'D':['D4','D5','D6','D7']\n",
    "},index = [4,5,6,7])\n",
    "\n",
    "df2\n"
   ]
  },
  {
   "cell_type": "code",
   "execution_count": 13,
   "metadata": {
    "collapsed": false
   },
   "outputs": [
    {
     "name": "stdout",
     "output_type": "stream",
     "text": [
      "    A   B   C   D\n",
      "0  A0  B0  C0  D0\n",
      "1  A1  B1  C1  D1\n",
      "2  A2  B2  C2  D2\n",
      "3  A3  B3  C3  D3\n",
      "4  A4  B4  C4  D4\n",
      "5  A5  B5  C5  D5\n",
      "6  A6  B6  C6  D6\n",
      "7  A7  B7  C7  D7\n",
      "    A   B   C   D\n",
      "0  A0  B0  C0  D0\n",
      "1  A1  B1  C1  D1\n",
      "2  A2  B2  C2  D2\n",
      "3  A3  B3  C3  D3\n",
      "4  A4  B4  C4  D4\n",
      "5  A5  B5  C5  D5\n",
      "6  A6  B6  C6  D6\n",
      "7  A7  B7  C7  D7\n"
     ]
    }
   ],
   "source": [
    "#df3 = df1 + df2이런식은안됨\n",
    "\n",
    "#밑에 둘다 가능하다ㅇㅇ.\n",
    "print pd.concat([df1,df2])\n",
    "print df1.append(df2)"
   ]
  },
  {
   "cell_type": "code",
   "execution_count": 14,
   "metadata": {
    "collapsed": false
   },
   "outputs": [
    {
     "name": "stdout",
     "output_type": "stream",
     "text": [
      "    A   B    C   CC    D   DD\n",
      "0  A0  B0   C0  NaN   D0  NaN\n",
      "1  A1  B1   C1  NaN   D1  NaN\n",
      "2  A2  B2   C2  NaN   D2  NaN\n",
      "3  A3  B3   C3  NaN   D3  NaN\n",
      "4  A4  B4  NaN   C4  NaN   D4\n",
      "5  A5  B5  NaN   C5  NaN   D5\n",
      "6  A6  B6  NaN   C6  NaN   D6\n",
      "7  A7  B7  NaN   C7  NaN   D7\n",
      "    A   B    C   CC    D   DD\n",
      "0  A0  B0   C0  NaN   D0  NaN\n",
      "1  A1  B1   C1  NaN   D1  NaN\n",
      "2  A2  B2   C2  NaN   D2  NaN\n",
      "3  A3  B3   C3  NaN   D3  NaN\n",
      "4  A4  B4  NaN   C4  NaN   D4\n",
      "5  A5  B5  NaN   C5  NaN   D5\n",
      "6  A6  B6  NaN   C6  NaN   D6\n",
      "7  A7  B7  NaN   C7  NaN   D7\n"
     ]
    }
   ],
   "source": [
    "#컬럼이 다를경우 없던컬럼을 추가해서 해결해준다.\n",
    "df1 = pd.DataFrame({'A':['A0','A1','A2','A3'],\n",
    "    'B':['B0','B1','B2','B3'],\n",
    "    'C':['C0','C1','C2','C3'],\n",
    "    'D':['D0','D1','D2','D3']},\n",
    "    index = [0,1,2,3])\n",
    "\n",
    "df2 = pd.DataFrame({\n",
    "    'A':['A4','A5','A6','A7'],\n",
    "    'B':['B4','B5','B6','B7'],\n",
    "    'CC':['C4','C5','C6','C7'],\n",
    "    'DD':['D4','D5','D6','D7']\n",
    "},index = [4,5,6,7])\n",
    "\n",
    "#컬럼이 다를경우 없던컬럼을 추가해서 해결해준다.\n",
    "print pd.concat([df1,df2])\n",
    "print df1.append(df2)"
   ]
  },
  {
   "cell_type": "code",
   "execution_count": 15,
   "metadata": {
    "collapsed": false
   },
   "outputs": [
    {
     "name": "stdout",
     "output_type": "stream",
     "text": [
      "    A   B    C   CC    D   DD\n",
      "0  A0  B0   C0  NaN   D0  NaN\n",
      "1  A1  B1   C1  NaN   D1  NaN\n",
      "2  A2  B2   C2  NaN   D2  NaN\n",
      "3  A3  B3   C3  NaN   D3  NaN\n",
      "2  A4  B4  NaN   C4  NaN   D4\n",
      "3  A5  B5  NaN   C5  NaN   D5\n",
      "6  A6  B6  NaN   C6  NaN   D6\n",
      "7  A7  B7  NaN   C7  NaN   D7\n",
      "    A   B    C   CC    D   DD\n",
      "0  A0  B0   C0  NaN   D0  NaN\n",
      "1  A1  B1   C1  NaN   D1  NaN\n",
      "2  A2  B2   C2  NaN   D2  NaN\n",
      "3  A3  B3   C3  NaN   D3  NaN\n",
      "2  A4  B4  NaN   C4  NaN   D4\n",
      "3  A5  B5  NaN   C5  NaN   D5\n",
      "6  A6  B6  NaN   C6  NaN   D6\n",
      "7  A7  B7  NaN   C7  NaN   D7\n"
     ]
    }
   ],
   "source": [
    "#인덱스가 겹칠경우 #가로줄도 가능 넣어준다ㅇㅇ  #겹치더라도 넣어준다.즉 이걸 인덱스로 쓰기는 조금 그런면이있음.\n",
    "df1 = pd.DataFrame({'A':['A0','A1','A2','A3'],\n",
    "    'B':['B0','B1','B2','B3'],\n",
    "    'C':['C0','C1','C2','C3'],\n",
    "    'D':['D0','D1','D2','D3']},\n",
    "    index = [0,1,2,3])\n",
    "\n",
    "df2 = pd.DataFrame({\n",
    "    'A':['A4','A5','A6','A7'],\n",
    "    'B':['B4','B5','B6','B7'],\n",
    "    'CC':['C4','C5','C6','C7'],\n",
    "    'DD':['D4','D5','D6','D7']\n",
    "},index = [2,3,6,7])\n",
    "\n",
    "print pd.concat([df1,df2])\n",
    "print df1.append(df2)"
   ]
  },
  {
   "cell_type": "code",
   "execution_count": 16,
   "metadata": {
    "collapsed": true
   },
   "outputs": [],
   "source": [
    "#concat가 조금더 부담이없어짐ㅇㅇ\n",
    "#ignore_index = True하면 인덱스를 새로해서 기존에있던인덱스를 무시하고함ㅇㅇ"
   ]
  },
  {
   "cell_type": "code",
   "execution_count": 17,
   "metadata": {
    "collapsed": true
   },
   "outputs": [],
   "source": [
    "#옆으로 붙이는 경우ㅇㅇ \n",
    "df1 = pd.DataFrame({'A':['A0','A1','A2','A3'],\n",
    "    'B':['B0','B1','B2','B3'],\n",
    "    'C':['C0','C1','C2','C3'],\n",
    "    'D':['D0','D1','D2','D3']},\n",
    "    index = [0,1,2,3])\n",
    "\n",
    "df2 = pd.DataFrame({\n",
    "    'AA':['A4','A5','A6','A7'],\n",
    "    'BB':['B4','B5','B6','B7'],\n",
    "    'CC':['C4','C5','C6','C7'],\n",
    "    'DD':['D4','D5','D6','D7']\n",
    "},index = [0,1,2,3])\n",
    "\n"
   ]
  },
  {
   "cell_type": "code",
   "execution_count": 18,
   "metadata": {
    "collapsed": false
   },
   "outputs": [
    {
     "name": "stdout",
     "output_type": "stream",
     "text": [
      "    A   B   C   D  AA  BB  CC  DD\n",
      "0  A0  B0  C0  D0  A4  B4  C4  D4\n",
      "1  A1  B1  C1  D1  A5  B5  C5  D5\n",
      "2  A2  B2  C2  D2  A6  B6  C6  D6\n",
      "3  A3  B3  C3  D3  A7  B7  C7  D7\n"
     ]
    }
   ],
   "source": [
    "print pd.concat([df1,df2],axis=1)#axis= 1을 주면 옆으로 붙인다.\n"
   ]
  },
  {
   "cell_type": "code",
   "execution_count": 21,
   "metadata": {
    "collapsed": false
   },
   "outputs": [
    {
     "data": {
      "text/html": [
       "<div>\n",
       "<table border=\"1\" class=\"dataframe\">\n",
       "  <thead>\n",
       "    <tr style=\"text-align: right;\">\n",
       "      <th></th>\n",
       "      <th>A</th>\n",
       "      <th>B</th>\n",
       "      <th>CC</th>\n",
       "    </tr>\n",
       "  </thead>\n",
       "  <tbody>\n",
       "    <tr>\n",
       "      <th>0</th>\n",
       "      <td>A0</td>\n",
       "      <td>B0</td>\n",
       "      <td>C4</td>\n",
       "    </tr>\n",
       "    <tr>\n",
       "      <th>1</th>\n",
       "      <td>A1</td>\n",
       "      <td>B1</td>\n",
       "      <td>C5</td>\n",
       "    </tr>\n",
       "    <tr>\n",
       "      <th>2</th>\n",
       "      <td>A2</td>\n",
       "      <td>B2</td>\n",
       "      <td>C6</td>\n",
       "    </tr>\n",
       "    <tr>\n",
       "      <th>3</th>\n",
       "      <td>A3</td>\n",
       "      <td>B3</td>\n",
       "      <td>C7</td>\n",
       "    </tr>\n",
       "  </tbody>\n",
       "</table>\n",
       "</div>"
      ],
      "text/plain": [
       "    A   B  CC\n",
       "0  A0  B0  C4\n",
       "1  A1  B1  C5\n",
       "2  A2  B2  C6\n",
       "3  A3  B3  C7"
      ]
     },
     "execution_count": 21,
     "metadata": {},
     "output_type": "execute_result"
    }
   ],
   "source": [
    "#붙이고나서 원하는것만 추리는 방법\n",
    "pd.concat([df1,df2],axis=1).ix[:,[\"A\",\"B\",\"CC\"]]"
   ]
  },
  {
   "cell_type": "code",
   "execution_count": 22,
   "metadata": {
    "collapsed": false
   },
   "outputs": [
    {
     "name": "stdout",
     "output_type": "stream",
     "text": [
      "    A   B   C   D  AA  BB  CC  DD\n",
      "0  A0  B0  C0  D0  A4  B4  C4  D4\n",
      "1  A1  B1  C1  D1  A5  B5  C5  D5\n",
      "2  A2  B2  C2  D2  A6  B6  C6  D6\n",
      "3  A3  B3  C3  D3  A7  B7  C7  D7\n",
      "    A   B   C   D  AA  BB  CC  DD\n",
      "0  A0  B0  C0  D0  A4  B4  C4  D4\n",
      "1  A1  B1  C1  D1  A5  B5  C5  D5\n",
      "2  A2  B2  C2  D2  A6  B6  C6  D6\n",
      "3  A3  B3  C3  D3  A7  B7  C7  D7\n"
     ]
    }
   ],
   "source": [
    "#양쪽에서 모우 완전한것만 추리기.\n",
    "print pd.concat([df1,df2],axis=1,join=\"inner\")\n",
    "print pd.concat([df1,df2],axis=1).dropna()"
   ]
  },
  {
   "cell_type": "code",
   "execution_count": null,
   "metadata": {
    "collapsed": true
   },
   "outputs": [],
   "source": [
    "#인덱스 기준\n"
   ]
  }
 ],
 "metadata": {
  "kernelspec": {
   "display_name": "Python 2",
   "language": "python",
   "name": "python2"
  },
  "language_info": {
   "codemirror_mode": {
    "name": "ipython",
    "version": 2
   },
   "file_extension": ".py",
   "mimetype": "text/x-python",
   "name": "python",
   "nbconvert_exporter": "python",
   "pygments_lexer": "ipython2",
   "version": "2.7.13"
  }
 },
 "nbformat": 4,
 "nbformat_minor": 2
}
